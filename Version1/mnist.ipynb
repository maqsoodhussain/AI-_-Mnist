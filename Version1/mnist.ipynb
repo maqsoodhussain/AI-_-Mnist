{
 "cells": [
  {
   "cell_type": "code",
   "execution_count": 1,
   "id": "cf42e936-2d58-4cf6-8f3d-bec9b0e5a729",
   "metadata": {},
   "outputs": [],
   "source": [
    "import numpy as np\n",
    "import matplotlib.pyplot as plt\n",
    "%matplotlib inline\n",
    "import time"
   ]
  },
  {
   "cell_type": "code",
   "execution_count": 2,
   "id": "9ab6cda5-9820-4552-8480-51e3ed098792",
   "metadata": {},
   "outputs": [
    {
     "name": "stdout",
     "output_type": "stream",
     "text": [
      "60001\n"
     ]
    }
   ],
   "source": [
    "train_file = open(\"mnist_dataset/mnist_train.csv\", \"r\")\n",
    "train_list = train_file.readlines()\n",
    "train_file.close()\n",
    "print(len(train_list))"
   ]
  },
  {
   "cell_type": "code",
   "execution_count": 3,
   "id": "d6d92d63-d525-4d18-bece-457948ebe73e",
   "metadata": {},
   "outputs": [
    {
     "data": {
      "text/plain": [
       "'3,0,0,0,0,0,0,0,0,0,0,0,0,0,0,0,0,0,0,0,0,0,0,0,0,0,0,0,0,0,0,0,0,0,0,0,0,0,0,0,0,0,0,0,0,0,0,0,0,0,0,0,0,0,0,0,0,0,0,0,0,0,0,0,0,0,0,0,0,0,0,0,0,0,0,0,0,0,0,0,0,0,0,0,0,0,0,0,0,0,0,0,0,0,0,0,0,0,0,0,0,0,0,0,0,0,0,0,0,0,0,0,0,0,0,0,0,0,0,0,0,0,0,0,0,0,0,0,0,0,0,0,0,0,0,0,0,0,0,0,0,0,0,0,0,0,0,0,0,0,0,15,108,233,253,255,180,101,0,0,0,0,0,0,0,0,0,0,0,0,0,0,0,0,0,0,0,0,36,219,252,252,252,253,252,227,50,0,0,0,0,0,0,0,0,0,0,0,0,0,0,0,0,0,0,85,222,252,233,141,69,79,227,252,160,0,0,0,0,0,0,0,0,0,0,0,0,0,0,0,0,0,0,116,253,235,64,0,0,0,161,252,160,0,0,0,0,0,0,0,0,0,0,0,0,0,0,0,0,0,0,11,128,18,0,0,0,22,244,252,108,0,0,0,0,0,0,0,0,0,0,0,0,0,0,0,0,0,0,0,0,0,0,0,0,97,253,184,0,0,0,0,0,0,0,0,0,0,0,0,0,0,0,0,0,0,0,0,0,0,0,38,99,253,244,98,0,0,0,0,0,0,0,0,0,0,0,0,0,0,0,0,0,0,0,0,0,13,153,240,252,253,240,101,13,0,0,0,0,0,0,0,0,0,0,0,0,0,0,0,0,0,0,0,0,99,252,252,252,253,252,252,215,19,0,0,0,0,0,0,0,0,0,0,0,0,0,0,0,0,0,0,0,26,221,210,137,23,96,221,252,128,0,0,0,0,0,0,0,0,0,0,0,0,0,0,0,0,0,0,0,0,0,0,0,0,0,70,253,253,64,0,0,0,0,0,0,0,0,0,0,0,0,0,0,0,0,0,0,0,0,0,0,0,0,25,223,252,116,0,0,0,0,0,0,0,0,0,0,0,0,0,0,0,0,0,0,0,0,0,0,0,0,0,207,252,116,0,0,0,0,0,0,0,0,0,0,0,0,0,0,0,0,0,0,0,0,0,0,0,0,0,207,252,116,0,0,0,0,0,0,0,0,0,0,0,0,0,0,0,0,0,0,0,0,0,0,0,0,64,248,252,116,0,0,0,0,0,0,0,0,0,0,0,0,0,0,0,0,0,0,0,0,0,0,0,5,138,253,253,53,0,0,0,0,0,0,0,0,0,0,0,0,0,0,0,0,0,5,47,34,0,0,5,136,252,252,157,0,0,0,0,0,0,0,0,0,0,0,0,0,0,0,0,0,0,24,252,234,90,70,191,252,252,227,16,0,0,0,0,0,0,0,0,0,0,0,0,0,0,0,0,0,0,24,252,252,252,252,253,235,128,29,0,0,0,0,0,0,0,0,0,0,0,0,0,0,0,0,0,0,0,13,211,252,252,252,137,60,0,0,0,0,0,0,0,0,0,0,0,0,0,0,0,0,0,0,0,0,0,0,0,0,0,0,0,0,0,0,0,0,0,0,0,0,0,0,0,0,0,0,0,0,0,0,0,0,0,0,0,0,0,0,0,0,0,0,0,0,0,0,0,0,0,0,0,0,0,0,0,0,0,0,0,0,0,0,0,0,0,0,0,0,0,0,0,0,0,0,0,0,0,0,0,0\\n'"
      ]
     },
     "execution_count": 3,
     "metadata": {},
     "output_type": "execute_result"
    }
   ],
   "source": [
    " train_list[99]"
   ]
  },
  {
   "cell_type": "code",
   "execution_count": 4,
   "id": "83e204df-d783-46ae-ac8f-86ee1255136a",
   "metadata": {},
   "outputs": [
    {
     "data": {
      "text/plain": [
       "<matplotlib.image.AxesImage at 0x247b448c680>"
      ]
     },
     "execution_count": 4,
     "metadata": {},
     "output_type": "execute_result"
    },
    {
     "data": {
      "image/png": "[encoded data removed]",
      "text/plain": [
       "<Figure size 640x480 with 1 Axes>"
      ]
     },
     "metadata": {},
     "output_type": "display_data"
    }
   ],
   "source": [
    "values = train_list[99].split(\",\")\n",
    "image_array = np.asfarray(values[1:]).reshape((28,28))\n",
    "plt.imshow(image_array, cmap=\"Greys\", interpolation=\"None\")"
   ]
  },
  {
   "cell_type": "code",
   "execution_count": 5,
   "id": "9ac2dab2-47cf-4cf3-b560-7d401ea35ee7",
   "metadata": {},
   "outputs": [
    {
     "name": "stdout",
     "output_type": "stream",
     "text": [
      "10001\n"
     ]
    }
   ],
   "source": [
    "test_file = open(\"mnist_dataset/mnist_test.csv\", \"r\")\n",
    "test_list = test_file.readlines()\n",
    "test_file.close()\n",
    "print(len(test_list))"
   ]
  },
  {
   "cell_type": "code",
   "execution_count": 6,
   "id": "963dc3bb-285a-49b8-8a3a-d0b1d7a10e80",
   "metadata": {},
   "outputs": [
    {
     "data": {
      "text/plain": [
       "'8,0,0,0,0,0,0,0,0,0,0,0,0,0,0,0,0,0,0,0,0,0,0,0,0,0,0,0,0,0,0,0,0,0,0,0,0,0,0,0,0,0,0,0,0,0,0,0,0,0,0,0,0,0,0,0,0,0,0,0,0,0,0,0,0,0,0,0,0,0,0,0,0,0,0,0,0,0,0,0,0,0,0,0,0,0,0,0,0,0,0,0,0,0,0,0,0,0,0,0,0,0,0,0,0,0,0,0,0,0,0,0,0,0,0,0,0,0,0,0,0,0,0,0,0,0,0,0,0,0,0,0,0,0,0,0,0,0,0,0,0,0,0,0,0,0,0,0,0,0,0,0,0,0,0,0,0,0,0,0,0,0,0,0,0,0,0,0,0,0,0,0,0,0,0,0,0,0,0,0,0,0,32,19,45,57,0,0,0,0,0,0,0,0,0,0,0,0,0,0,0,0,0,0,0,0,0,19,85,134,229,215,240,252,198,197,197,59,0,0,0,0,0,0,0,0,0,0,0,0,0,0,38,113,226,231,252,252,253,252,252,252,253,252,252,190,0,0,0,0,0,0,0,0,0,0,0,0,92,253,253,253,255,253,253,253,254,253,253,253,254,253,253,241,16,104,141,141,0,0,0,0,0,0,0,0,216,252,252,252,253,252,252,252,247,196,196,196,197,196,240,215,216,252,252,252,0,0,0,0,0,0,0,0,253,252,252,252,253,252,252,177,50,0,0,0,0,82,240,252,253,252,224,118,0,0,0,0,0,0,0,0,203,252,252,252,253,252,252,228,114,38,0,0,176,243,252,252,253,151,19,0,0,0,0,0,0,0,0,0,0,101,235,253,254,253,253,253,254,253,165,241,254,253,253,253,163,38,0,0,0,0,0,0,0,0,0,0,0,0,28,133,253,252,252,252,253,252,252,252,253,252,233,96,0,0,0,0,0,0,0,0,0,0,0,0,0,0,0,0,69,168,196,252,253,252,252,252,253,252,234,59,0,0,0,0,0,0,0,0,0,0,0,0,0,0,0,0,0,0,47,240,253,252,252,252,253,252,252,240,51,0,0,0,0,0,0,0,0,0,0,0,0,0,0,0,0,7,154,253,254,253,253,228,226,244,253,253,226,0,0,0,0,0,0,0,0,0,0,0,0,0,0,0,0,131,252,252,253,252,196,35,57,187,252,252,200,0,0,0,0,0,0,0,0,0,0,0,0,0,0,0,10,197,252,252,253,252,234,222,253,252,252,252,113,0,0,0,0,0,0,0,0,0,0,0,0,0,0,0,128,252,252,252,253,252,252,252,253,252,252,252,13,0,0,0,0,0,0,0,0,0,0,0,0,0,0,0,29,253,253,253,254,253,253,253,254,247,225,125,0,0,0,0,0,0,0,0,0,0,0,0,0,0,0,0,10,196,252,252,253,252,252,202,84,65,0,0,0,0,0,0,0,0,0,0,0,0,0,0,0,0,0,0,0,38,56,56,56,56,56,6,0,0,0,0,0,0,0,0,0,0,0,0,0,0,0,0,0,0,0,0,0,0,0,0,0,0,0,0,0,0,0,0,0,0,0,0,0,0,0,0,0,0,0,0,0,0,0,0,0,0,0,0,0,0,0,0,0,0,0,0,0,0,0,0,0,0,0,0,0,0,0,0,0,0,0,0,0,0,0,0,0,0,0,0,0,0,0,0,0,0,0,0,0,0,0,0,0,0,0,0,0,0,0,0,0,0,0,0,0,0,0,0,0,0,0,0,0,0,0,0,0,0,0\\n'"
      ]
     },
     "execution_count": 6,
     "metadata": {},
     "output_type": "execute_result"
    }
   ],
   "source": [
    "test_list[999]"
   ]
  },
  {
   "cell_type": "code",
   "execution_count": 7,
   "id": "14a1ca86-15ec-48b9-b060-d2e766173344",
   "metadata": {},
   "outputs": [
    {
     "data": {
      "text/plain": [
       "<matplotlib.image.AxesImage at 0x247bc39a150>"
      ]
     },
     "execution_count": 7,
     "metadata": {},
     "output_type": "execute_result"
    },
    {
     "data": {
      "image/png": "[encoded data removed]",
      "text/plain": [
       "<Figure size 640x480 with 1 Axes>"
      ]
     },
     "metadata": {},
     "output_type": "display_data"
    }
   ],
   "source": [
    "values = test_list[999].split(\",\")\n",
    "image_array = np.asfarray(values[1:]).reshape((28,28))\n",
    "plt.imshow(image_array, cmap=\"Greys\", interpolation=\"None\")"
   ]
  },
  {
   "cell_type": "code",
   "execution_count": 9,
   "id": "c49708d9-1657-4e82-a647-decb3ebe1599",
   "metadata": {},
   "outputs": [],
   "source": [
    "class DNN:\n",
    "    def __init__(self,sizes=[784, 128, 64, 10], epochs = 10, lr=0.001):\n",
    "        self.sizes = sizes\n",
    "        self.epochs = epochs\n",
    "        self.lr = lr\n",
    "\n",
    "        input_layer = sizes[0]\n",
    "        hidden_1 = sizes[1]\n",
    "        hidden_2 = sizes[2]\n",
    "        output_layer = sizes[3]\n",
    "\n",
    "        self.params = {\n",
    "            'W1' : np.random.randn(hidden_1, input_layer) * np.sqrt(1./hidden_1), #128x784\n",
    "            'W2': np.random.randn(hidden_2, hidden_1) * np.sqrt(1./hidden_2),   #64x128\n",
    "            'W3': np.random.randn(output_layer, hidden_2) * np.sqrt(1./output_layer),  #10x64\n",
    "        }\n",
    "    def sigmoid(self, x, derivative =False):\n",
    "            if derivative:\n",
    "                return (np.exp(-x))/((np.exp(-x)+1)**2)\n",
    "            return 1/(1+np.exp(-x))\n",
    "        \n",
    "    def softmax(self, x, derivative=False):\n",
    "        exps = np.exp(x-x.max())\n",
    "        if derivative:\n",
    "            return exps/np.sum(expx, axis=0) * (1-exps / np.sum(exps,axis=0))\n",
    "        return  exps / np.sum(exps,axis=0)\n",
    "            \n",
    "        \n",
    "\n",
    "    \n",
    "    def forward_pass(self, x_train):\n",
    "        params = self.params\n",
    "\n",
    "        params['A0'] = x_train  # 784x1\n",
    "\n",
    "        #input layer to hidden_1\n",
    "        params['Z1'] = np.dot(params['W1'],params['A0']) # 128x1\n",
    "        params['A1'] = self.sigmoid(params['Z1'])\n",
    "\n",
    "        #hidden_1 to hidden_2\n",
    "        params['Z2'] = np.dot(params['W2'],params['A0'])\n",
    "        params['A2'] = self.sigmoid(params['Z2'])\n",
    "\n",
    "       #hidden_2 to output_layer\n",
    "        params['Z3'] = np.dot(params['W3'],params['A2']) # 128x1\n",
    "        params['A3'] = self.softmax(params['Z3'])\n",
    "\n",
    "        return params['Z3']\n",
    "    \n",
    "        \n",
    "    def backward_pass(self, y_train, output):\n",
    "        params = self.params\n",
    "\n",
    "        change_w ={}\n",
    "\n",
    "        # calculate W3 update\n",
    "        error = e* (output- y_train)/output.shape[0]*self.softmax(params['Z3'],derivative=True)\n",
    "        change_w['W3']= np.outer(error,params['A2'])\n",
    "\n",
    "        # calulate W1 update\n",
    "        error = np.dot(params['W3'].T,error)*self.softmax(params['Z3'],derivative=True)\n",
    "        change_w['W2']= np.outer(error,params['A1'])\n",
    "\n",
    "        #calculate W1 update\n",
    "\n",
    "        error = np.dot(params['W2'].T,error)*self.softmax(params['Z1'],derivative=True)\n",
    "        change_w['W1']= np.outer(error,params['A0'])\n",
    "\n",
    "\n",
    "        return change_w\n",
    "\n",
    "\n",
    "    def update_weights(self, change_w):\n",
    "        for key, val in change_w.items():\n",
    "            self.params[key] -= self.lr * val \n",
    "        \n",
    "        \n",
    "\n",
    "        \n",
    "        \n",
    "        \n",
    "    def compute_accuracy(self,test_data):\n",
    "        predictions = []\n",
    "        for x in train_list:\n",
    "                values = x.plsit(\",\")\n",
    "                inputs = (np.asfarray(values[1:])/ 255.0*0.99)+0.01\n",
    "                targets = np.zeros(10) + 0.01\n",
    "                targets[int(values[0])] = 0.99\n",
    "                output = self.forward_pass(inputs)\n",
    "                pred = np.argmax(output)\n",
    "                predictions.append(pred==np.argmax(targets))\n",
    "\n",
    "        return np.mean(predictions)\n",
    "\n",
    "    def train(self, train_list, test_list):\n",
    "        start_time = time.time()\n",
    "        for i in range(self.epochs):\n",
    "            for x in train_list:\n",
    "                values = x.split(\",\")\n",
    "                inputs = (np.asfarray(values[1:])/ 255.0 * 0.99)+0.01\n",
    "                targets = np.zeros(10) + 0.01\n",
    "                targets[int(values[0])] = 0.99\n",
    "                output = self.forward_pass(inputs)\n",
    "                change_w = self.backward_pass(targets, output)\n",
    "                self.update_weights(change_w)\n",
    "            accuracy = self.compute_accuracy(test_list)\n",
    "            print('Epoch: {0}, Time Spend: {1:.02f}s Accuracy: {2:.2f}%'.format(i+1, time.time()-start_time, accuracy*100))"
   ]
  },
  {
   "cell_type": "code",
   "execution_count": 11,
   "id": "913b735a-8772-4647-9e48-4abf0935f1b3",
   "metadata": {},
   "outputs": [
    {
     "ename": "ValueError",
     "evalue": "could not convert string to float: '1x1'",
     "output_type": "error",
     "traceback": [
      "\u001b[1;31m---------------------------------------------------------------------------\u001b[0m",
      "\u001b[1;31mValueError\u001b[0m                                Traceback (most recent call last)",
      "Cell \u001b[1;32mIn[11], line 2\u001b[0m\n\u001b[0;32m      1\u001b[0m dnn \u001b[38;5;241m=\u001b[39m DNN(sizes\u001b[38;5;241m=\u001b[39m[\u001b[38;5;241m784\u001b[39m, \u001b[38;5;241m128\u001b[39m, \u001b[38;5;241m64\u001b[39m, \u001b[38;5;241m10\u001b[39m], epochs\u001b[38;5;241m=\u001b[39m\u001b[38;5;241m10\u001b[39m, lr\u001b[38;5;241m=\u001b[39m\u001b[38;5;241m0.001\u001b[39m)\n\u001b[1;32m----> 2\u001b[0m \u001b[43mdnn\u001b[49m\u001b[38;5;241;43m.\u001b[39;49m\u001b[43mtrain\u001b[49m\u001b[43m(\u001b[49m\u001b[43mtrain_list\u001b[49m\u001b[43m,\u001b[49m\u001b[43m \u001b[49m\u001b[43mtest_list\u001b[49m\u001b[43m)\u001b[49m\n",
      "Cell \u001b[1;32mIn[9], line 100\u001b[0m, in \u001b[0;36mDNN.train\u001b[1;34m(self, train_list, test_list)\u001b[0m\n\u001b[0;32m     98\u001b[0m \u001b[38;5;28;01mfor\u001b[39;00m x \u001b[38;5;129;01min\u001b[39;00m train_list:\n\u001b[0;32m     99\u001b[0m     values \u001b[38;5;241m=\u001b[39m x\u001b[38;5;241m.\u001b[39msplit(\u001b[38;5;124m\"\u001b[39m\u001b[38;5;124m,\u001b[39m\u001b[38;5;124m\"\u001b[39m)\n\u001b[1;32m--> 100\u001b[0m     inputs \u001b[38;5;241m=\u001b[39m (\u001b[43mnp\u001b[49m\u001b[38;5;241;43m.\u001b[39;49m\u001b[43masfarray\u001b[49m\u001b[43m(\u001b[49m\u001b[43mvalues\u001b[49m\u001b[43m[\u001b[49m\u001b[38;5;241;43m1\u001b[39;49m\u001b[43m:\u001b[49m\u001b[43m]\u001b[49m\u001b[43m)\u001b[49m\u001b[38;5;241m/\u001b[39m \u001b[38;5;241m255.0\u001b[39m \u001b[38;5;241m*\u001b[39m \u001b[38;5;241m0.99\u001b[39m)\u001b[38;5;241m+\u001b[39m\u001b[38;5;241m0.01\u001b[39m\n\u001b[0;32m    101\u001b[0m     targets \u001b[38;5;241m=\u001b[39m np\u001b[38;5;241m.\u001b[39mzeros(\u001b[38;5;241m10\u001b[39m) \u001b[38;5;241m+\u001b[39m \u001b[38;5;241m0.01\u001b[39m\n\u001b[0;32m    102\u001b[0m     targets[\u001b[38;5;28mint\u001b[39m(values[\u001b[38;5;241m0\u001b[39m])] \u001b[38;5;241m=\u001b[39m \u001b[38;5;241m0.99\u001b[39m\n",
      "File \u001b[1;32m~\\AppData\\Local\\Programs\\Python\\Python312\\Lib\\site-packages\\numpy\\lib\\type_check.py:113\u001b[0m, in \u001b[0;36masfarray\u001b[1;34m(a, dtype)\u001b[0m\n\u001b[0;32m    111\u001b[0m \u001b[38;5;28;01mif\u001b[39;00m \u001b[38;5;129;01mnot\u001b[39;00m _nx\u001b[38;5;241m.\u001b[39missubdtype(dtype, _nx\u001b[38;5;241m.\u001b[39minexact):\n\u001b[0;32m    112\u001b[0m     dtype \u001b[38;5;241m=\u001b[39m _nx\u001b[38;5;241m.\u001b[39mfloat_\n\u001b[1;32m--> 113\u001b[0m \u001b[38;5;28;01mreturn\u001b[39;00m \u001b[43masarray\u001b[49m\u001b[43m(\u001b[49m\u001b[43ma\u001b[49m\u001b[43m,\u001b[49m\u001b[43m \u001b[49m\u001b[43mdtype\u001b[49m\u001b[38;5;241;43m=\u001b[39;49m\u001b[43mdtype\u001b[49m\u001b[43m)\u001b[49m\n",
      "\u001b[1;31mValueError\u001b[0m: could not convert string to float: '1x1'"
     ]
    }
   ],
   "source": [
    "dnn = DNN(sizes=[784, 128, 64, 10], epochs=10, lr=0.001)\n",
    "dnn.train(train_list, test_list)"
   ]
  },
  {
   "cell_type": "code",
   "execution_count": null,
   "id": "bd5dfd06-42fb-4b94-8dbe-384ca9a32360",
   "metadata": {},
   "outputs": [],
   "source": []
  }
 ],
 "metadata": {
  "kernelspec": {
   "display_name": "Python 3 (ipykernel)",
   "language": "python",
   "name": "python3"
  },
  "language_info": {
   "codemirror_mode": {
    "name": "ipython",
    "version": 3
   },
   "file_extension": ".py",
   "mimetype": "text/x-python",
   "name": "python",
   "nbconvert_exporter": "python",
   "pygments_lexer": "ipython3",
   "version": "3.12.3"
  }
 },
 "nbformat": 4,
 "nbformat_minor": 5
}
