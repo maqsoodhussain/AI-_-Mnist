{
 "cells": [
  {
   "cell_type": "code",
   "execution_count": 1,
   "id": "cf42e936-2d58-4cf6-8f3d-bec9b0e5a729",
   "metadata": {},
   "outputs": [],
   "source": [
    "import numpy as np\n",
    "import matplotlib.pyplot as plt\n",
    "%matplotlib inline\n",
    "import time"
   ]
  },
  {
   "cell_type": "code",
   "execution_count": 2,
   "id": "9ab6cda5-9820-4552-8480-51e3ed098792",
   "metadata": {},
   "outputs": [
    {
     "name": "stdout",
     "output_type": "stream",
     "text": [
      "60001\n"
     ]
    }
   ],
   "source": [
    "train_file = open(\"mnist_dataset/mnist_train.csv\", \"r\")\n",
    "train_list = train_file.readlines()\n",
    "train_file.close()\n",
    "print(len(train_list))"
   ]
  },
  {
   "cell_type": "code",
   "execution_count": null,
   "id": "9ac2dab2-47cf-4cf3-b560-7d401ea35ee7",
   "metadata": {},
   "outputs": [],
   "source": [
    "test_file = open(\"AI _ Mnist/mnist_dataset/mnist_test.csv\", \"r\")\n",
    "test_list = test_file.readlines()\n",
    "test_file.close()\n",
    "print(len(test_list))"
   ]
  },
  {
   "cell_type": "code",
   "execution_count": 3,
   "id": "963dc3bb-285a-49b8-8a3a-d0b1d7a10e80",
   "metadata": {},
   "outputs": [
    {
     "data": {
      "text/plain": [
       "'3,0,0,0,0,0,0,0,0,0,0,0,0,0,0,0,0,0,0,0,0,0,0,0,0,0,0,0,0,0,0,0,0,0,0,0,0,0,0,0,0,0,0,0,0,0,0,0,0,0,0,0,0,0,0,0,0,0,0,0,0,0,0,0,0,0,0,0,0,0,0,0,0,0,0,0,0,0,0,0,0,0,0,0,0,0,0,0,0,0,0,0,0,0,0,0,0,0,0,0,0,0,0,0,0,0,0,0,0,0,0,0,0,0,0,0,0,0,0,0,0,0,0,0,0,0,0,0,0,0,0,0,0,0,0,0,0,0,0,0,0,0,0,0,0,0,0,0,0,0,0,15,108,233,253,255,180,101,0,0,0,0,0,0,0,0,0,0,0,0,0,0,0,0,0,0,0,0,36,219,252,252,252,253,252,227,50,0,0,0,0,0,0,0,0,0,0,0,0,0,0,0,0,0,0,85,222,252,233,141,69,79,227,252,160,0,0,0,0,0,0,0,0,0,0,0,0,0,0,0,0,0,0,116,253,235,64,0,0,0,161,252,160,0,0,0,0,0,0,0,0,0,0,0,0,0,0,0,0,0,0,11,128,18,0,0,0,22,244,252,108,0,0,0,0,0,0,0,0,0,0,0,0,0,0,0,0,0,0,0,0,0,0,0,0,97,253,184,0,0,0,0,0,0,0,0,0,0,0,0,0,0,0,0,0,0,0,0,0,0,0,38,99,253,244,98,0,0,0,0,0,0,0,0,0,0,0,0,0,0,0,0,0,0,0,0,0,13,153,240,252,253,240,101,13,0,0,0,0,0,0,0,0,0,0,0,0,0,0,0,0,0,0,0,0,99,252,252,252,253,252,252,215,19,0,0,0,0,0,0,0,0,0,0,0,0,0,0,0,0,0,0,0,26,221,210,137,23,96,221,252,128,0,0,0,0,0,0,0,0,0,0,0,0,0,0,0,0,0,0,0,0,0,0,0,0,0,70,253,253,64,0,0,0,0,0,0,0,0,0,0,0,0,0,0,0,0,0,0,0,0,0,0,0,0,25,223,252,116,0,0,0,0,0,0,0,0,0,0,0,0,0,0,0,0,0,0,0,0,0,0,0,0,0,207,252,116,0,0,0,0,0,0,0,0,0,0,0,0,0,0,0,0,0,0,0,0,0,0,0,0,0,207,252,116,0,0,0,0,0,0,0,0,0,0,0,0,0,0,0,0,0,0,0,0,0,0,0,0,64,248,252,116,0,0,0,0,0,0,0,0,0,0,0,0,0,0,0,0,0,0,0,0,0,0,0,5,138,253,253,53,0,0,0,0,0,0,0,0,0,0,0,0,0,0,0,0,0,5,47,34,0,0,5,136,252,252,157,0,0,0,0,0,0,0,0,0,0,0,0,0,0,0,0,0,0,24,252,234,90,70,191,252,252,227,16,0,0,0,0,0,0,0,0,0,0,0,0,0,0,0,0,0,0,24,252,252,252,252,253,235,128,29,0,0,0,0,0,0,0,0,0,0,0,0,0,0,0,0,0,0,0,13,211,252,252,252,137,60,0,0,0,0,0,0,0,0,0,0,0,0,0,0,0,0,0,0,0,0,0,0,0,0,0,0,0,0,0,0,0,0,0,0,0,0,0,0,0,0,0,0,0,0,0,0,0,0,0,0,0,0,0,0,0,0,0,0,0,0,0,0,0,0,0,0,0,0,0,0,0,0,0,0,0,0,0,0,0,0,0,0,0,0,0,0,0,0,0,0,0,0,0,0,0,0\\n'"
      ]
     },
     "execution_count": 3,
     "metadata": {},
     "output_type": "execute_result"
    }
   ],
   "source": [
    " train_list[99]"
   ]
  },
  {
   "cell_type": "code",
   "execution_count": 4,
   "id": "14a1ca86-15ec-48b9-b060-d2e766173344",
   "metadata": {},
   "outputs": [
    {
     "data": {
      "text/plain": [
       "<matplotlib.image.AxesImage at 0x2709cc9b140>"
      ]
     },
     "execution_count": 4,
     "metadata": {},
     "output_type": "execute_result"
    },
    {
     "data": {
      "image/png": "[encoded data removed]",
      "text/plain": [
       "<Figure size 640x480 with 1 Axes>"
      ]
     },
     "metadata": {},
     "output_type": "display_data"
    }
   ],
   "source": [
    "values = train_list[99].split(\",\")\n",
    "image_array = np.asfarray(values[1:]).reshape((28,28))\n",
    "plt.imshow(image_array, cmap=\"Greys\", interpolation=\"None\")"
   ]
  },
  {
   "cell_type": "code",
   "execution_count": null,
   "id": "c49708d9-1657-4e82-a647-decb3ebe1599",
   "metadata": {},
   "outputs": [],
   "source": []
  },
  {
   "cell_type": "code",
   "execution_count": null,
   "id": "913b735a-8772-4647-9e48-4abf0935f1b3",
   "metadata": {},
   "outputs": [],
   "source": []
  }
 ],
 "metadata": {
  "kernelspec": {
   "display_name": "Python 3 (ipykernel)",
   "language": "python",
   "name": "python3"
  },
  "language_info": {
   "codemirror_mode": {
    "name": "ipython",
    "version": 3
   },
   "file_extension": ".py",
   "mimetype": "text/x-python",
   "name": "python",
   "nbconvert_exporter": "python",
   "pygments_lexer": "ipython3",
   "version": "3.12.3"
  }
 },
 "nbformat": 4,
 "nbformat_minor": 5
}
